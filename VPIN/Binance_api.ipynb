{
 "cells": [
  {
   "cell_type": "code",
   "execution_count": 2,
   "metadata": {},
   "outputs": [],
   "source": [
    "import sys\n",
    "from datetime import datetime\n",
    "import pandas as pd \n",
    "import datetime\n",
    "import plotly.graph_objects as go\n",
    "from plotly.subplots import make_subplots\n",
    "import numpy as np\n",
    "import plotly.graph_objects as go\n",
    "from plotly.subplots import make_subplots\n",
    "\n",
    "import plotly.express as px\n",
    "from scipy.stats import lognorm\n",
    "from statsmodels.distributions.empirical_distribution import ECDF\n"
   ]
  },
  {
   "cell_type": "code",
   "execution_count": 3,
   "metadata": {},
   "outputs": [
    {
     "name": "stdout",
     "output_type": "stream",
     "text": [
      "['/home/ivan/projects/VPIN', '/usr/lib/python310.zip', '/usr/lib/python3.10', '/usr/lib/python3.10/lib-dynload', '', '/home/ivan/.local/lib/python3.10/site-packages', '/usr/local/lib/python3.10/dist-packages', '/usr/lib/python3/dist-packages']\n"
     ]
    }
   ],
   "source": [
    "print(sys.path)"
   ]
  },
  {
   "cell_type": "code",
   "execution_count": 4,
   "metadata": {},
   "outputs": [],
   "source": [
    "\n",
    "from binance.client import Client\n",
    "def get_data_from_binance(symbol='BTCUSDT', resample_freq='1h', start_time=\"1 Jan, 1970\", end_time=None, futures=True):\n",
    "    \"\"\"\n",
    "    從 Binance 上抓取數據，並存成 csv 檔案。\n",
    "    Args:\n",
    "        symbol (str, optional): 要抓取的交易對. Defaults to 'BTCUSDT'.\n",
    "        resample_freq (str, optional): 要抓取的時間週期. Defaults to '1h'.\n",
    "        start_time (str, optional): 要抓取的起始時間. Defaults to '1 Jan, 1970'.\n",
    "        end_time (str, optional): 要抓取的結束時間. Defaults to None.\n",
    "    Returns:\n",
    "        df: 抓取的數據\n",
    "    \"\"\"\n",
    "    # Binance API Token\n",
    "    api_key = 'AccZsoScBxoX6xXZpVZD22iGx2BOFD35L0aIHB4LONPCHlx7A6Bd9gvFBS4WlYJG'\n",
    "    api_secret = 'CG6RMwPrEn0UEHxRf6ThisxBTa8Og9TpoHbV4XuD0dhniyCo7MRBIfBE0WjbAq2I'\n",
    "    client = Client(api_key, api_secret)  # 注意 futures=True\n",
    "    # Fetch BTC/USDT 1hr data\n",
    "    if futures:\n",
    "        print('Fetching futures data...')\n",
    "        klines = client.futures_historical_klines(symbol, resample_freq, start_time, end_time)\n",
    "        if len(klines) == 0:\n",
    "            print('Future data empty, fetching spot data...')\n",
    "            klines = client.get_historical_klines(symbol, resample_freq, start_time, end_time)\n",
    "    else:\n",
    "        print('Fetching spot data...')\n",
    "        try:\n",
    "            klines = client.get_historical_klines(symbol, resample_freq, start_time, end_time)\n",
    "            if len(klines) == 0:\n",
    "                print('Spot data empty, fetching future data...')\n",
    "                klines = client.futures_historical_klines(symbol, resample_freq, start_time, end_time)\n",
    "        except:\n",
    "            print('Spot data return error, fetching futures data...')\n",
    "            klines = client.futures_historical_klines(symbol, resample_freq, start_time, end_time)\n",
    "    # turn to df\n",
    "    df = pd.DataFrame(klines, columns=['open_time', 'open', 'high', 'low', 'close', 'volume',\n",
    "                      'close_time', 'quote_asset_volume', 'trades', 'taker_buy_volume', 'taker_buy_quote', 'ignored'])\n",
    "    df['open_time'] = pd.to_datetime(df['open_time'], unit='ms')\n",
    "    # choose interested columns\n",
    "    df = df[['open_time', 'open', 'high', 'low', 'close', 'volume','taker_buy_volume']]\n",
    "    # turn to float\n",
    "    df[['open', 'high', 'low', 'close', 'volume', 'taker_buy_volume']] = df[[\n",
    "        'open', 'high', 'low', 'close', 'volume', 'taker_buy_volume']].astype(float)\n",
    "\n",
    "    df['taker_sell_volume'] = df['volume'] - df['taker_buy_volume']\n",
    "    # # save csv\n",
    "    # df.to_csv(folder_path + f'{symbol}_{resample_freq}.csv', index=False)\n",
    "    # # print message\n",
    "    # print('Data saved to ' + folder_path + f'{symbol}_{resample_freq}.csv')\n",
    "    return df\n"
   ]
  },
  {
   "cell_type": "code",
   "execution_count": 5,
   "metadata": {},
   "outputs": [
    {
     "name": "stdout",
     "output_type": "stream",
     "text": [
      "Now Downloading : BTCUSDT\n",
      "Fetching spot data...\n"
     ]
    }
   ],
   "source": [
    "symbols = ['BTCUSDT']\n",
    "df_kbar = {}\n",
    "\n",
    "for symbol in symbols : \n",
    "    print(\"Now Downloading : \" + symbol)\n",
    "    df_kbar[symbol] = get_data_from_binance(symbol= symbol, \n",
    "                        resample_freq='1m', \n",
    "                        start_time=\"1 Jan, 2017\", \n",
    "                        end_time= None, \n",
    "                        futures=False)"
   ]
  },
  {
   "cell_type": "code",
   "execution_count": 5,
   "metadata": {},
   "outputs": [
    {
     "name": "stdout",
     "output_type": "stream",
     "text": [
      "Now Downloading : ETHUSDT\n",
      "Fetching spot data...\n"
     ]
    }
   ],
   "source": [
    "symbols = ['ETHUSDT']\n",
    "df_kbar = {}\n",
    "\n",
    "for symbol in symbols : \n",
    "    print(\"Now Downloading : \" + symbol)\n",
    "    df_kbar[symbol] = get_data_from_binance(symbol= symbol, \n",
    "                        resample_freq='1m', \n",
    "                        start_time=\"1 Jan, 2017\", \n",
    "                        end_time= None, \n",
    "                        futures=False)\n",
    "df_kbar['ETHUSDT'].to_csv('eth.csv')"
   ]
  },
  {
   "cell_type": "code",
   "execution_count": 6,
   "metadata": {},
   "outputs": [],
   "source": [
    "# df_kbar['SOLUSDT'].to_csv('sol.csv')\n",
    "# df_kbar['ETHUSDT'].to_csv('eth.csv')\n",
    "df_kbar['BTCUSDT'].to_csv('btc.csv')"
   ]
  }
 ],
 "metadata": {
  "kernelspec": {
   "display_name": "Python 3 (ipykernel)",
   "language": "python",
   "name": "python3"
  },
  "language_info": {
   "codemirror_mode": {
    "name": "ipython",
    "version": 3
   },
   "file_extension": ".py",
   "mimetype": "text/x-python",
   "name": "python",
   "nbconvert_exporter": "python",
   "pygments_lexer": "ipython3",
   "version": "3.10.12"
  },
  "orig_nbformat": 4
 },
 "nbformat": 4,
 "nbformat_minor": 2
}
