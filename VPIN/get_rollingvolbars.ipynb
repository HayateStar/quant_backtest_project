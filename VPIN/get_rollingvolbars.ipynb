{
 "cells": [
  {
   "cell_type": "markdown",
   "metadata": {},
   "source": [
    "###  Import Packages"
   ]
  },
  {
   "cell_type": "code",
   "execution_count": null,
   "metadata": {},
   "outputs": [],
   "source": [
    "from datetime import datetime\n",
    "import pandas as pd \n",
    "import datetime\n",
    "import plotly.graph_objects as go\n",
    "from plotly.subplots import make_subplots\n",
    "import numpy as np\n",
    "import plotly.graph_objects as go\n",
    "from plotly.subplots import make_subplots\n",
    "\n",
    "import plotly.express as px\n",
    "from scipy.stats import lognorm\n",
    "from statsmodels.distributions.empirical_distribution import ECDF\n"
   ]
  },
  {
   "cell_type": "markdown",
   "metadata": {},
   "source": [
    "### Load Binance API Kbar"
   ]
  },
  {
   "cell_type": "code",
   "execution_count": 2,
   "metadata": {},
   "outputs": [],
   "source": [
    "\n",
    "btc_kbar = pd.read_csv('btc.csv')\n",
    "eth_kbar = pd.read_csv('eth.csv')\n",
    "sol_kbar = pd.read_csv('sol.csv')\n",
    "xrp_kbar = pd.read_csv('xrp.csv')\n",
    "\n"
   ]
  },
  {
   "cell_type": "code",
   "execution_count": 3,
   "metadata": {},
   "outputs": [
    {
     "name": "stderr",
     "output_type": "stream",
     "text": [
      "/tmp/ipykernel_245622/1814961824.py:3: SettingWithCopyWarning: \n",
      "A value is trying to be set on a copy of a slice from a DataFrame.\n",
      "Try using .loc[row_indexer,col_indexer] = value instead\n",
      "\n",
      "See the caveats in the documentation: https://pandas.pydata.org/pandas-docs/stable/user_guide/indexing.html#returning-a-view-versus-a-copy\n",
      "  df['open_time'] = pd.to_datetime(df['open_time'])\n",
      "/tmp/ipykernel_245622/1814961824.py:3: SettingWithCopyWarning: \n",
      "A value is trying to be set on a copy of a slice from a DataFrame.\n",
      "Try using .loc[row_indexer,col_indexer] = value instead\n",
      "\n",
      "See the caveats in the documentation: https://pandas.pydata.org/pandas-docs/stable/user_guide/indexing.html#returning-a-view-versus-a-copy\n",
      "  df['open_time'] = pd.to_datetime(df['open_time'])\n",
      "/tmp/ipykernel_245622/1814961824.py:3: SettingWithCopyWarning: \n",
      "A value is trying to be set on a copy of a slice from a DataFrame.\n",
      "Try using .loc[row_indexer,col_indexer] = value instead\n",
      "\n",
      "See the caveats in the documentation: https://pandas.pydata.org/pandas-docs/stable/user_guide/indexing.html#returning-a-view-versus-a-copy\n",
      "  df['open_time'] = pd.to_datetime(df['open_time'])\n",
      "/tmp/ipykernel_245622/1814961824.py:3: SettingWithCopyWarning: \n",
      "A value is trying to be set on a copy of a slice from a DataFrame.\n",
      "Try using .loc[row_indexer,col_indexer] = value instead\n",
      "\n",
      "See the caveats in the documentation: https://pandas.pydata.org/pandas-docs/stable/user_guide/indexing.html#returning-a-view-versus-a-copy\n",
      "  df['open_time'] = pd.to_datetime(df['open_time'])\n"
     ]
    }
   ],
   "source": [
    "def convert_to_dateime(df) : \n",
    "    df = df[['open_time', 'open', 'high', 'low', 'close', 'volume', 'taker_buy_volume', 'taker_sell_volume']]\n",
    "    df['open_time'] = pd.to_datetime(df['open_time'])\n",
    "    return df \n",
    "\n",
    "\n",
    "btc_kbar = convert_to_dateime(btc_kbar)\n",
    "eth_kbar = convert_to_dateime(eth_kbar)\n",
    "sol_kbar = convert_to_dateime(sol_kbar)\n",
    "xrp_kbar = convert_to_dateime(xrp_kbar)\n"
   ]
  },
  {
   "cell_type": "markdown",
   "metadata": {},
   "source": [
    "### Rolling Volume Bars Function"
   ]
  },
  {
   "cell_type": "code",
   "execution_count": 4,
   "metadata": {},
   "outputs": [],
   "source": [
    "# 每日平均交易量\n",
    "def rolling_avg_daily_volume(df, col):\n",
    "    vol = df.groupby([df[col].dt.date])['volume'].sum().reset_index()\n",
    "    return vol\n"
   ]
  },
  {
   "cell_type": "code",
   "execution_count": 5,
   "metadata": {},
   "outputs": [],
   "source": [
    "# Single Volume Bar Function\n",
    "# frequency : 每根 Volume Bar 交易量大小\n",
    "def generate_single_volumebar(trades, frequency=10):\n",
    "    \n",
    "    times = trades['open_time']\n",
    "    volumes = trades['volume']\n",
    "    buy_volume = trades['taker_buy_volume']\n",
    "    sell_volume = trades['taker_sell_volume']\n",
    "\n",
    "\n",
    "    open_ = trades['open']\n",
    "    high_ = trades['high']\n",
    "    low_ = trades['low']\n",
    "    close_ = trades['close']\n",
    "\n",
    " \n",
    "    candle_counter = 0 \n",
    "    vol = 0\n",
    "    lasti = 0\n",
    "\n",
    "    result = {}\n",
    "\n",
    "    for i in range(len(times)):\n",
    "        vol += volumes[i]\n",
    "        if vol >= frequency:\n",
    "\n",
    "            volumes_result = np.sum(volumes[lasti:i+1])  # volume\n",
    "            buy_volumes_result = np.sum(buy_volume[lasti:i+1])  # volume\n",
    "            sell_volumes_result = np.sum(sell_volume[lasti:i+1])  # volume\n",
    "\n",
    "\n",
    "            open_result = open_[lasti] # open price\n",
    "            high_result = np.max(high_[lasti:i+1]) # high price\n",
    "            low_result = np.min(low_[lasti:i+1]) # low price\n",
    "            close_result = close_[i] # close price\n",
    "\n",
    "            result[times[i]] = [volumes_result, buy_volumes_result, sell_volumes_result, open_result, high_result, low_result, close_result, frequency]                      \n",
    "            lasti = i+1\n",
    "            vol = 0\n",
    "            break\n",
    "    \n",
    "    \n",
    "    #print(result)\n",
    "    result = pd.DataFrame(result).T.reset_index()\n",
    "    result.columns = ['open_time', 'volume', 'buy_volume', 'sell_volume', 'open', 'high', 'low', 'close', 'V']\n",
    "\n",
    "    return result\n"
   ]
  },
  {
   "cell_type": "code",
   "execution_count": 6,
   "metadata": {},
   "outputs": [],
   "source": [
    "## Rolling Volume Bars\n",
    "\n",
    "def get_rolling_volumebars(df_kbar) : \n",
    "\n",
    "    # 使用過去 1 年日均交易量\n",
    "    freq_end_time = df_kbar['open_time'].min() + pd.DateOffset(years = 1)\n",
    "    df_rolling_volumebar = pd.DataFrame()\n",
    "\n",
    "    # V = 日均交易量/daily_vol_devisor_array\n",
    "    daily_vol_devisor_array = 12\n",
    "\n",
    "    while freq_end_time < df_kbar['open_time'].max() : \n",
    "\n",
    "        try : \n",
    "\n",
    "            # 計算 V 範圍 : 某根 Volume Bar 前一年\n",
    "            freq_start_time = freq_end_time - pd.DateOffset(years = 1)\n",
    "\n",
    "            df_kbar_freq = df_kbar[(df_kbar['open_time'] >= freq_start_time) & (df_kbar['open_time'] <  freq_end_time)]\n",
    "\n",
    "            # 計算該 Volume Bar 過去一年的日平均交易量\n",
    "            open_time_groupby = df_kbar_freq['open_time'] - pd.DateOffset(hours = df_kbar_freq['open_time'].min().hour) - pd.DateOffset(minutes = df_kbar_freq['open_time'].min().minute)\n",
    "            df_kbar_freq = df_kbar_freq.assign(open_time_groupby = open_time_groupby)\n",
    "\n",
    "            df_avg_volume = rolling_avg_daily_volume(df_kbar_freq, col = 'open_time_groupby')\n",
    "            avg_volume = df_avg_volume['volume'].mean()/daily_vol_devisor_array\n",
    "\n",
    "            # 計算下一根 Volume Bar \n",
    "            df_kbar_filter  = df_kbar[df_kbar['open_time'] >= freq_end_time]\n",
    "            df_kbar_filter = df_kbar_filter.reset_index(drop = True)\n",
    "            \n",
    "            volumebar = generate_single_volumebar(df_kbar_filter, frequency=avg_volume)\n",
    "            new_freq_end_time = volumebar['open_time'][0]\n",
    "            \n",
    "            # 若同一分鐘內即符合 Volume Bar 大小，平移到下一分鐘計算。\n",
    "            if new_freq_end_time == freq_end_time : \n",
    "                new_freq_end_time = new_freq_end_time + pd.DateOffset(minutes = 1)\n",
    "            \n",
    "            freq_end_time = new_freq_end_time\n",
    "            print(freq_end_time)\n",
    "\n",
    "            df_rolling_volumebar = pd.concat([df_rolling_volumebar, volumebar])\n",
    "\n",
    "\n",
    "        \n",
    "        except : \n",
    "            break\n",
    "\n",
    "    return df_rolling_volumebar\n"
   ]
  },
  {
   "cell_type": "code",
   "execution_count": 7,
   "metadata": {},
   "outputs": [
    {
     "name": "stdout",
     "output_type": "stream",
     "text": [
      "2018-08-17 04:32:00\n",
      "2018-08-17 05:33:00\n",
      "2018-08-17 06:28:00\n",
      "2018-08-17 07:00:00\n",
      "2018-08-17 07:44:00\n",
      "2018-08-17 08:38:00\n",
      "2018-08-17 09:31:00\n",
      "2018-08-17 10:17:00\n"
     ]
    }
   ],
   "source": [
    "df_rolling_volumebar_btc  = get_rolling_volumebars(btc_kbar)\n",
    "df_rolling_volumebar_btc = df_rolling_volumebar_btc.reset_index(drop = True)\n",
    "#df_rolling_volumebar_btc.to_pickle(\"df_rolling_volumebar_btc_12.pkl\")\n"
   ]
  }
 ],
 "metadata": {
  "kernelspec": {
   "display_name": "Python 3 (ipykernel)",
   "language": "python",
   "name": "python3"
  },
  "language_info": {
   "codemirror_mode": {
    "name": "ipython",
    "version": 3
   },
   "file_extension": ".py",
   "mimetype": "text/x-python",
   "name": "python",
   "nbconvert_exporter": "python",
   "pygments_lexer": "ipython3",
   "version": "3.10.12"
  }
 },
 "nbformat": 4,
 "nbformat_minor": 2
}
